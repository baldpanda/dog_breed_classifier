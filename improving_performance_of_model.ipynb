{
 "cells": [
  {
   "cell_type": "markdown",
   "metadata": {},
   "source": [
    "# Improving Performance of Model"
   ]
  },
  {
   "cell_type": "markdown",
   "metadata": {},
   "source": [
    "Would like to get the loss of the model below 4 on the test data."
   ]
  },
  {
   "cell_type": "code",
   "execution_count": 1,
   "metadata": {},
   "outputs": [],
   "source": [
    "%load_ext lab_black"
   ]
  },
  {
   "cell_type": "code",
   "execution_count": 42,
   "metadata": {},
   "outputs": [],
   "source": [
    "import os\n",
    "import random\n",
    "import tensorflow as tf\n",
    "\n",
    "from matplotlib import pyplot as plt\n",
    "from tensorflow.keras import layers\n",
    "from tensorflow.keras import Model\n",
    "from tensorflow.keras.preprocessing.image import ImageDataGenerator"
   ]
  },
  {
   "cell_type": "markdown",
   "metadata": {},
   "source": [
    "## Method 1- Increasing the size of the test data"
   ]
  },
  {
   "cell_type": "markdown",
   "metadata": {},
   "source": [
    "The initial dataset provided by Kaggle contains ~10200 images. This means there are roughly only 85 images. Taking 20% for validation => there are generally 70 images per breed to train the model on. Some of these images contain multiple dogs, people and other objects. The initial method will be to reduce the size of the data that is used as validation down to 5% and measure the impact on performance. "
   ]
  },
  {
   "cell_type": "code",
   "execution_count": 27,
   "metadata": {},
   "outputs": [],
   "source": [
    "PATH_TO_TRAINING_DATA = \"dog_breed_images/dog_breeds/training/\"\n",
    "PATH_TO_VALIDATION_DATA = \"dog_breed_images/dog_breeds/validation/\""
   ]
  },
  {
   "cell_type": "code",
   "execution_count": 13,
   "metadata": {},
   "outputs": [],
   "source": [
    "dog_breed_list = os.listdir(PATH_TO_VALIDATION_DATA)"
   ]
  },
  {
   "cell_type": "code",
   "execution_count": 16,
   "metadata": {},
   "outputs": [
    {
     "name": "stdout",
     "output_type": "stream",
     "text": [
      "Dog breed 'australian_terrier' has 20 images.\n",
      "Dog breed 'toy_poodle' has 16 images.\n",
      "Dog breed 'great_pyrenees' has 22 images.\n",
      "Dog breed 'maltese_dog' has 23 images.\n",
      "Dog breed 'norwich_terrier' has 16 images.\n",
      "Dog breed 'whippet' has 19 images.\n",
      "Dog breed 'boston_bull' has 17 images.\n",
      "Dog breed 'irish_setter' has 18 images.\n",
      "Dog breed 'rottweiler' has 15 images.\n",
      "Dog breed 'kelpie' has 17 images.\n",
      "Dog breed 'schipperke' has 17 images.\n",
      "Dog breed 'leonberg' has 21 images.\n",
      "Dog breed 'welsh_springer_spaniel' has 16 images.\n",
      "Dog breed 'pomeranian' has 22 images.\n",
      "Dog breed 'pekinese' has 15 images.\n",
      "Dog breed 'irish_wolfhound' has 20 images.\n",
      "Dog breed 'blenheim_spaniel' has 20 images.\n",
      "Dog breed 'basenji' has 22 images.\n",
      "Dog breed 'african_hunting_dog' has 17 images.\n",
      "Dog breed 'komondor' has 13 images.\n",
      "Dog breed 'yorkshire_terrier' has 16 images.\n",
      "Dog breed 'basset' has 16 images.\n",
      "Dog breed 'japanese_spaniel' has 21 images.\n",
      "Dog breed 'standard_schnauzer' has 14 images.\n",
      "Dog breed 'dhole' has 15 images.\n",
      "Dog breed 'miniature_pinscher' has 20 images.\n",
      "Dog breed 'lhasa' has 18 images.\n",
      "Dog breed 'walker_hound' has 14 images.\n",
      "Dog breed 'kerry_blue_terrier' has 16 images.\n",
      "Dog breed 'standard_poodle' has 16 images.\n",
      "Dog breed 'saint_bernard' has 17 images.\n",
      "Dog breed 'chihuahua' has 14 images.\n",
      "Dog breed 'afghan_hound' has 23 images.\n",
      "Dog breed 'newfoundland' has 19 images.\n",
      "Dog breed 'black-and-tan_coonhound' has 15 images.\n",
      "Dog breed 'pug' has 19 images.\n",
      "Dog breed 'scottish_deerhound' has 25 images.\n",
      "Dog breed 'cairn' has 22 images.\n",
      "Dog breed 'malamute' has 16 images.\n",
      "Dog breed 'beagle' has 21 images.\n",
      "Dog breed 'vizsla' has 14 images.\n",
      "Dog breed 'collie' has 17 images.\n",
      "Dog breed 'italian_greyhound' has 18 images.\n",
      "Dog breed 'west_highland_white_terrier' has 16 images.\n",
      "Dog breed 'brittany_spaniel' has 15 images.\n",
      "Dog breed 'english_springer' has 15 images.\n",
      "Dog breed 'affenpinscher' has 17 images.\n",
      "Dog breed 'doberman' has 15 images.\n",
      "Dog breed 'silky_terrier' has 18 images.\n",
      "Dog breed 'pembroke' has 18 images.\n",
      "Dog breed 'weimaraner' has 17 images.\n",
      "Dog breed 'papillon' has 19 images.\n",
      "Dog breed 'norwegian_elkhound' has 19 images.\n",
      "Dog breed 'sussex_spaniel' has 16 images.\n",
      "Dog breed 'soft-coated_wheaten_terrier' has 14 images.\n",
      "Dog breed 'shih-tzu' has 22 images.\n",
      "Dog breed 'ibizan_hound' has 18 images.\n",
      "Dog breed 'cocker_spaniel' has 15 images.\n",
      "Dog breed 'flat-coated_retriever' has 14 images.\n",
      "Dog breed 'american_staffordshire_terrier' has 15 images.\n",
      "Dog breed 'rhodesian_ridgeback' has 18 images.\n",
      "Dog breed 'samoyed' has 22 images.\n",
      "Dog breed 'brabancon_griffon' has 13 images.\n",
      "Dog breed 'groenendael' has 16 images.\n",
      "Dog breed 'shetland_sheepdog' has 15 images.\n",
      "Dog breed 'bouvier_des_flandres' has 17 images.\n",
      "Dog breed 'lakeland_terrier' has 20 images.\n",
      "Dog breed 'saluki' has 20 images.\n",
      "Dog breed 'miniature_poodle' has 16 images.\n",
      "Dog breed 'tibetan_terrier' has 21 images.\n",
      "Dog breed 'eskimo_dog' has 13 images.\n",
      "Dog breed 'golden_retriever' has 13 images.\n",
      "Dog breed 'staffordshire_bullterrier' has 16 images.\n",
      "Dog breed 'giant_schnauzer' has 14 images.\n",
      "Dog breed 'bedlington_terrier' has 18 images.\n",
      "Dog breed 'miniature_schnauzer' has 16 images.\n",
      "Dog breed 'border_collie' has 14 images.\n",
      "Dog breed 'appenzeller' has 16 images.\n",
      "Dog breed 'borzoi' has 15 images.\n",
      "Dog breed 'border_terrier' has 18 images.\n",
      "Dog breed 'siberian_husky' has 19 images.\n",
      "Dog breed 'chow' has 19 images.\n",
      "Dog breed 'curly-coated_retriever' has 14 images.\n",
      "Dog breed 'airedale' has 21 images.\n",
      "Dog breed 'dingo' has 16 images.\n",
      "Dog breed 'otterhound' has 14 images.\n",
      "Dog breed 'keeshond' has 16 images.\n",
      "Dog breed 'french_bulldog' has 14 images.\n",
      "Dog breed 'toy_terrier' has 16 images.\n",
      "Dog breed 'sealyham_terrier' has 18 images.\n",
      "Dog breed 'labrador_retriever' has 17 images.\n",
      "Dog breed 'bernese_mountain_dog' has 23 images.\n",
      "Dog breed 'german_shepherd' has 14 images.\n",
      "Dog breed 'briard' has 13 images.\n",
      "Dog breed 'chesapeake_bay_retriever' has 17 images.\n",
      "Dog breed 'kuvasz' has 14 images.\n",
      "Dog breed 'malinois' has 15 images.\n",
      "Dog breed 'great_dane' has 15 images.\n",
      "Dog breed 'norfolk_terrier' has 18 images.\n",
      "Dog breed 'wire-haired_fox_terrier' has 16 images.\n",
      "Dog breed 'dandie_dinmont' has 18 images.\n",
      "Dog breed 'bull_mastiff' has 15 images.\n",
      "Dog breed 'entlebucher' has 23 images.\n",
      "Dog breed 'scotch_terrier' has 16 images.\n",
      "Dog breed 'clumber' has 16 images.\n",
      "Dog breed 'boxer' has 15 images.\n",
      "Dog breed 'cardigan' has 15 images.\n",
      "Dog breed 'tibetan_mastiff' has 14 images.\n",
      "Dog breed 'bloodhound' has 17 images.\n",
      "Dog breed 'irish_water_spaniel' has 16 images.\n",
      "Dog breed 'old_english_sheepdog' has 17 images.\n",
      "Dog breed 'bluetick' has 17 images.\n",
      "Dog breed 'irish_terrier' has 16 images.\n",
      "Dog breed 'mexican_hairless' has 16 images.\n",
      "Dog breed 'english_setter' has 17 images.\n",
      "Dog breed 'redbone' has 14 images.\n",
      "Dog breed 'gordon_setter' has 16 images.\n",
      "Dog breed 'english_foxhound' has 17 images.\n",
      "Dog breed 'german_short-haired_pointer' has 15 images.\n",
      "Dog breed 'greater_swiss_mountain_dog' has 16 images.\n"
     ]
    }
   ],
   "source": [
    "for dog_breed in dog_breed_list:\n",
    "    print(\n",
    "        f\"Dog breed '{dog_breed}' has {len(os.listdir(f'{PATH_TO_VALIDATION_DATA}{dog_breed}'))} images.\"\n",
    "    )"
   ]
  },
  {
   "cell_type": "code",
   "execution_count": 28,
   "metadata": {},
   "outputs": [],
   "source": [
    "for dog_breed in dog_breed_list:\n",
    "    validation_breed_images = os.listdir(f\"{PATH_TO_VALIDATION_DATA}{dog_breed}\")\n",
    "    random.shuffle(validation_breed_images)\n",
    "\n",
    "    num_validation_images_for_breed = len(validation_breed_images)\n",
    "\n",
    "    # Taking 25% of 20% => leaving 5% images in validation\n",
    "    split_index = round(num_validation_images_for_breed * 0.25)\n",
    "\n",
    "    images_to_move_back_to_training = validation_breed_images[split_index:]\n",
    "    for image_to_move in images_to_move_back_to_training:\n",
    "        os.rename(\n",
    "            f\"{PATH_TO_VALIDATION_DATA}{dog_breed}/{image_to_move}\",\n",
    "            f\"{PATH_TO_TRAINING_DATA}{dog_breed}/{image_to_move}\",\n",
    "        )"
   ]
  },
  {
   "cell_type": "code",
   "execution_count": 29,
   "metadata": {},
   "outputs": [
    {
     "name": "stdout",
     "output_type": "stream",
     "text": [
      "Dog breed 'australian_terrier' has 5 images.\n",
      "Dog breed 'toy_poodle' has 4 images.\n",
      "Dog breed 'great_pyrenees' has 6 images.\n",
      "Dog breed 'maltese_dog' has 6 images.\n",
      "Dog breed 'norwich_terrier' has 4 images.\n",
      "Dog breed 'whippet' has 5 images.\n",
      "Dog breed 'boston_bull' has 4 images.\n",
      "Dog breed 'irish_setter' has 4 images.\n",
      "Dog breed 'rottweiler' has 4 images.\n",
      "Dog breed 'kelpie' has 4 images.\n",
      "Dog breed 'schipperke' has 4 images.\n",
      "Dog breed 'leonberg' has 5 images.\n",
      "Dog breed 'welsh_springer_spaniel' has 4 images.\n",
      "Dog breed 'pomeranian' has 6 images.\n",
      "Dog breed 'pekinese' has 4 images.\n",
      "Dog breed 'irish_wolfhound' has 5 images.\n",
      "Dog breed 'blenheim_spaniel' has 5 images.\n",
      "Dog breed 'basenji' has 6 images.\n",
      "Dog breed 'african_hunting_dog' has 4 images.\n",
      "Dog breed 'komondor' has 3 images.\n",
      "Dog breed 'yorkshire_terrier' has 4 images.\n",
      "Dog breed 'basset' has 4 images.\n",
      "Dog breed 'japanese_spaniel' has 5 images.\n",
      "Dog breed 'standard_schnauzer' has 4 images.\n",
      "Dog breed 'dhole' has 4 images.\n",
      "Dog breed 'miniature_pinscher' has 5 images.\n",
      "Dog breed 'lhasa' has 4 images.\n",
      "Dog breed 'walker_hound' has 4 images.\n",
      "Dog breed 'kerry_blue_terrier' has 4 images.\n",
      "Dog breed 'standard_poodle' has 4 images.\n",
      "Dog breed 'saint_bernard' has 4 images.\n",
      "Dog breed 'chihuahua' has 4 images.\n",
      "Dog breed 'afghan_hound' has 6 images.\n",
      "Dog breed 'newfoundland' has 5 images.\n",
      "Dog breed 'black-and-tan_coonhound' has 4 images.\n",
      "Dog breed 'pug' has 5 images.\n",
      "Dog breed 'scottish_deerhound' has 6 images.\n",
      "Dog breed 'cairn' has 6 images.\n",
      "Dog breed 'malamute' has 4 images.\n",
      "Dog breed 'beagle' has 5 images.\n",
      "Dog breed 'vizsla' has 4 images.\n",
      "Dog breed 'collie' has 4 images.\n",
      "Dog breed 'italian_greyhound' has 4 images.\n",
      "Dog breed 'west_highland_white_terrier' has 4 images.\n",
      "Dog breed 'brittany_spaniel' has 4 images.\n",
      "Dog breed 'english_springer' has 4 images.\n",
      "Dog breed 'affenpinscher' has 4 images.\n",
      "Dog breed 'doberman' has 4 images.\n",
      "Dog breed 'silky_terrier' has 4 images.\n",
      "Dog breed 'pembroke' has 4 images.\n",
      "Dog breed 'weimaraner' has 4 images.\n",
      "Dog breed 'papillon' has 5 images.\n",
      "Dog breed 'norwegian_elkhound' has 5 images.\n",
      "Dog breed 'sussex_spaniel' has 4 images.\n",
      "Dog breed 'soft-coated_wheaten_terrier' has 4 images.\n",
      "Dog breed 'shih-tzu' has 6 images.\n",
      "Dog breed 'ibizan_hound' has 4 images.\n",
      "Dog breed 'cocker_spaniel' has 4 images.\n",
      "Dog breed 'flat-coated_retriever' has 4 images.\n",
      "Dog breed 'american_staffordshire_terrier' has 4 images.\n",
      "Dog breed 'rhodesian_ridgeback' has 4 images.\n",
      "Dog breed 'samoyed' has 6 images.\n",
      "Dog breed 'brabancon_griffon' has 3 images.\n",
      "Dog breed 'groenendael' has 4 images.\n",
      "Dog breed 'shetland_sheepdog' has 4 images.\n",
      "Dog breed 'bouvier_des_flandres' has 4 images.\n",
      "Dog breed 'lakeland_terrier' has 5 images.\n",
      "Dog breed 'saluki' has 5 images.\n",
      "Dog breed 'miniature_poodle' has 4 images.\n",
      "Dog breed 'tibetan_terrier' has 5 images.\n",
      "Dog breed 'eskimo_dog' has 3 images.\n",
      "Dog breed 'golden_retriever' has 3 images.\n",
      "Dog breed 'staffordshire_bullterrier' has 4 images.\n",
      "Dog breed 'giant_schnauzer' has 4 images.\n",
      "Dog breed 'bedlington_terrier' has 4 images.\n",
      "Dog breed 'miniature_schnauzer' has 4 images.\n",
      "Dog breed 'border_collie' has 4 images.\n",
      "Dog breed 'appenzeller' has 4 images.\n",
      "Dog breed 'borzoi' has 4 images.\n",
      "Dog breed 'border_terrier' has 4 images.\n",
      "Dog breed 'siberian_husky' has 5 images.\n",
      "Dog breed 'chow' has 5 images.\n",
      "Dog breed 'curly-coated_retriever' has 4 images.\n",
      "Dog breed 'airedale' has 5 images.\n",
      "Dog breed 'dingo' has 4 images.\n",
      "Dog breed 'otterhound' has 4 images.\n",
      "Dog breed 'keeshond' has 4 images.\n",
      "Dog breed 'french_bulldog' has 4 images.\n",
      "Dog breed 'toy_terrier' has 4 images.\n",
      "Dog breed 'sealyham_terrier' has 4 images.\n",
      "Dog breed 'labrador_retriever' has 4 images.\n",
      "Dog breed 'bernese_mountain_dog' has 6 images.\n",
      "Dog breed 'german_shepherd' has 4 images.\n",
      "Dog breed 'briard' has 3 images.\n",
      "Dog breed 'chesapeake_bay_retriever' has 4 images.\n",
      "Dog breed 'kuvasz' has 4 images.\n",
      "Dog breed 'malinois' has 4 images.\n",
      "Dog breed 'great_dane' has 4 images.\n",
      "Dog breed 'norfolk_terrier' has 4 images.\n",
      "Dog breed 'wire-haired_fox_terrier' has 4 images.\n",
      "Dog breed 'dandie_dinmont' has 4 images.\n",
      "Dog breed 'bull_mastiff' has 4 images.\n",
      "Dog breed 'entlebucher' has 6 images.\n",
      "Dog breed 'scotch_terrier' has 4 images.\n",
      "Dog breed 'clumber' has 4 images.\n",
      "Dog breed 'boxer' has 4 images.\n",
      "Dog breed 'cardigan' has 4 images.\n",
      "Dog breed 'tibetan_mastiff' has 4 images.\n",
      "Dog breed 'bloodhound' has 4 images.\n",
      "Dog breed 'irish_water_spaniel' has 4 images.\n",
      "Dog breed 'old_english_sheepdog' has 4 images.\n",
      "Dog breed 'bluetick' has 4 images.\n",
      "Dog breed 'irish_terrier' has 4 images.\n",
      "Dog breed 'mexican_hairless' has 4 images.\n",
      "Dog breed 'english_setter' has 4 images.\n",
      "Dog breed 'redbone' has 4 images.\n",
      "Dog breed 'gordon_setter' has 4 images.\n",
      "Dog breed 'english_foxhound' has 4 images.\n",
      "Dog breed 'german_short-haired_pointer' has 4 images.\n",
      "Dog breed 'greater_swiss_mountain_dog' has 4 images.\n"
     ]
    }
   ],
   "source": [
    "for dog_breed in dog_breed_list:\n",
    "    print(\n",
    "        f\"Dog breed '{dog_breed}' has {len(os.listdir(f'{PATH_TO_VALIDATION_DATA}{dog_breed}'))} images.\"\n",
    "    )"
   ]
  },
  {
   "cell_type": "markdown",
   "metadata": {},
   "source": [
    "Retraining model using transfer learning on inception"
   ]
  },
  {
   "cell_type": "code",
   "execution_count": 31,
   "metadata": {},
   "outputs": [],
   "source": [
    "from tensorflow.keras.applications.inception_v3 import InceptionV3"
   ]
  },
  {
   "cell_type": "code",
   "execution_count": 32,
   "metadata": {},
   "outputs": [],
   "source": [
    "inception_path = \"inception_v3_weights_tf_dim_ordering_tf_kernels_notop.h5\""
   ]
  },
  {
   "cell_type": "code",
   "execution_count": 33,
   "metadata": {},
   "outputs": [],
   "source": [
    "pre_trained_model = InceptionV3(\n",
    "    input_shape=(150, 150, 3), include_top=False, weights=None\n",
    ")\n",
    "\n",
    "pre_trained_model.load_weights(inception_path)"
   ]
  },
  {
   "cell_type": "code",
   "execution_count": 34,
   "metadata": {},
   "outputs": [],
   "source": [
    "for layer in pre_trained_model.layers:\n",
    "    layer.trainable = False"
   ]
  },
  {
   "cell_type": "code",
   "execution_count": 35,
   "metadata": {},
   "outputs": [
    {
     "name": "stdout",
     "output_type": "stream",
     "text": [
      "last layer output shape:  (None, 7, 7, 768)\n"
     ]
    }
   ],
   "source": [
    "last_layer = pre_trained_model.get_layer(\"mixed7\")\n",
    "print(\"last layer output shape: \", last_layer.output_shape)\n",
    "last_output = last_layer.output"
   ]
  },
  {
   "cell_type": "code",
   "execution_count": 36,
   "metadata": {},
   "outputs": [],
   "source": [
    "x = layers.Flatten()(last_output)\n",
    "x = layers.Dense(1024, activation=\"relu\")(x)\n",
    "x = layers.Dense(120, activation=\"softmax\")(x)\n",
    "\n",
    "model = Model(pre_trained_model.input, x)\n",
    "\n",
    "model.compile(loss=\"sparse_categorical_crossentropy\", optimizer=\"adam\", metrics=[\"acc\"])"
   ]
  },
  {
   "cell_type": "code",
   "execution_count": 37,
   "metadata": {},
   "outputs": [],
   "source": [
    "train_datagen = ImageDataGenerator(\n",
    "    rescale=1.0 / 255.0,\n",
    "    rotation_range=40,\n",
    "    width_shift_range=0.2,\n",
    "    height_shift_range=0.2,\n",
    "    shear_range=0.2,\n",
    "    zoom_range=0.2,\n",
    "    horizontal_flip=True,\n",
    ")\n",
    "\n",
    "test_datagen = ImageDataGenerator(rescale=1.0 / 255.0)"
   ]
  },
  {
   "cell_type": "code",
   "execution_count": 38,
   "metadata": {},
   "outputs": [
    {
     "name": "stdout",
     "output_type": "stream",
     "text": [
      "Found 9727 images belonging to 120 classes.\n",
      "Found 521 images belonging to 120 classes.\n"
     ]
    }
   ],
   "source": [
    "train_generator = train_datagen.flow_from_directory(\n",
    "    PATH_TO_TRAINING_DATA, batch_size=10, class_mode=\"sparse\", target_size=(150, 150)\n",
    ")\n",
    "\n",
    "validation_generator = test_datagen.flow_from_directory(\n",
    "    PATH_TO_VALIDATION_DATA, batch_size=10, class_mode=\"sparse\", target_size=(150, 150)\n",
    ")"
   ]
  },
  {
   "cell_type": "code",
   "execution_count": 40,
   "metadata": {},
   "outputs": [
    {
     "name": "stdout",
     "output_type": "stream",
     "text": [
      "WARNING:tensorflow:sample_weight modes were coerced from\n",
      "  ...\n",
      "    to  \n",
      "  ['...']\n",
      "WARNING:tensorflow:sample_weight modes were coerced from\n",
      "  ...\n",
      "    to  \n",
      "  ['...']\n",
      "Train for 972 steps, validate for 53 steps\n",
      "Epoch 1/25\n",
      "972/972 [==============================] - 232s 239ms/step - loss: 3.4718 - acc: 0.1552 - val_loss: 4.2797 - val_acc: 0.2380\n",
      "Epoch 2/25\n",
      "972/972 [==============================] - 234s 241ms/step - loss: 3.3865 - acc: 0.1724 - val_loss: 4.0770 - val_acc: 0.2495\n",
      "Epoch 3/25\n",
      "972/972 [==============================] - 234s 241ms/step - loss: 3.3388 - acc: 0.1734 - val_loss: 4.6032 - val_acc: 0.2630\n",
      "Epoch 4/25\n",
      "972/972 [==============================] - 232s 239ms/step - loss: 3.2687 - acc: 0.1916 - val_loss: 3.9172 - val_acc: 0.2649\n",
      "Epoch 5/25\n",
      "972/972 [==============================] - 234s 241ms/step - loss: 3.2767 - acc: 0.1839 - val_loss: 4.6003 - val_acc: 0.2303\n",
      "Epoch 6/25\n",
      "972/972 [==============================] - 234s 241ms/step - loss: 3.2470 - acc: 0.1908 - val_loss: 4.5996 - val_acc: 0.2572\n",
      "Epoch 7/25\n",
      "972/972 [==============================] - 235s 241ms/step - loss: 3.2371 - acc: 0.1923 - val_loss: 4.6004 - val_acc: 0.2399\n",
      "Epoch 8/25\n",
      "972/972 [==============================] - 235s 242ms/step - loss: 3.2075 - acc: 0.2030 - val_loss: 4.1137 - val_acc: 0.2821\n",
      "Epoch 9/25\n",
      "972/972 [==============================] - 234s 241ms/step - loss: 3.1914 - acc: 0.2002 - val_loss: 3.9174 - val_acc: 0.3013\n",
      "Epoch 10/25\n",
      "972/972 [==============================] - 237s 243ms/step - loss: 3.1641 - acc: 0.2031 - val_loss: 4.2813 - val_acc: 0.2572\n",
      "Epoch 11/25\n",
      "972/972 [==============================] - 237s 244ms/step - loss: 3.1715 - acc: 0.2025 - val_loss: 4.4154 - val_acc: 0.2821\n",
      "Epoch 12/25\n",
      "972/972 [==============================] - 235s 242ms/step - loss: 3.1637 - acc: 0.2036 - val_loss: 3.9992 - val_acc: 0.2975\n",
      "Epoch 13/25\n",
      "972/972 [==============================] - 239s 246ms/step - loss: 3.1395 - acc: 0.2106 - val_loss: 4.0571 - val_acc: 0.2994\n",
      "Epoch 14/25\n",
      "972/972 [==============================] - 241s 248ms/step - loss: 3.1322 - acc: 0.2174 - val_loss: 3.9678 - val_acc: 0.2917\n",
      "Epoch 15/25\n",
      "972/972 [==============================] - 234s 241ms/step - loss: 3.1175 - acc: 0.2198 - val_loss: 4.4458 - val_acc: 0.3071\n",
      "Epoch 16/25\n",
      "972/972 [==============================] - 235s 242ms/step - loss: 3.1120 - acc: 0.2215 - val_loss: 4.5170 - val_acc: 0.2937\n",
      "Epoch 17/25\n",
      "972/972 [==============================] - 232s 239ms/step - loss: 3.1072 - acc: 0.2221 - val_loss: 4.2737 - val_acc: 0.2917\n",
      "Epoch 18/25\n",
      "972/972 [==============================] - 230s 237ms/step - loss: 3.1066 - acc: 0.2128 - val_loss: 4.4254 - val_acc: 0.2706\n",
      "Epoch 19/25\n",
      "972/972 [==============================] - 237s 243ms/step - loss: 3.1070 - acc: 0.2181 - val_loss: 4.3729 - val_acc: 0.2879\n",
      "Epoch 20/25\n",
      "972/972 [==============================] - 238s 245ms/step - loss: 3.0997 - acc: 0.2216 - val_loss: 4.4361 - val_acc: 0.2860\n",
      "Epoch 21/25\n",
      "972/972 [==============================] - 238s 244ms/step - loss: 3.0978 - acc: 0.2185 - val_loss: 4.4618 - val_acc: 0.2726\n",
      "Epoch 22/25\n",
      "972/972 [==============================] - 726s 747ms/step - loss: 3.0807 - acc: 0.2233 - val_loss: 4.2336 - val_acc: 0.2937\n",
      "Epoch 23/25\n",
      "972/972 [==============================] - 236s 243ms/step - loss: 3.0722 - acc: 0.2192 - val_loss: 4.2924 - val_acc: 0.2821\n",
      "Epoch 24/25\n",
      "972/972 [==============================] - 2367s 2s/step - loss: 3.0782 - acc: 0.2273 - val_loss: 4.3087 - val_acc: 0.2917\n",
      "Epoch 25/25\n",
      "972/972 [==============================] - 1823s 2s/step - loss: 3.0648 - acc: 0.2258 - val_loss: 4.3368 - val_acc: 0.2917\n"
     ]
    }
   ],
   "source": [
    "history = model.fit_generator(\n",
    "    train_generator,\n",
    "    steps_per_epoch=972,\n",
    "    epochs=25,\n",
    "    verbose=1,\n",
    "    validation_data=validation_generator,\n",
    ")"
   ]
  },
  {
   "cell_type": "code",
   "execution_count": 43,
   "metadata": {},
   "outputs": [
    {
     "data": {
      "image/png": "[encoded data removed]",
      "text/plain": [
       "<Figure size 432x288 with 1 Axes>"
      ]
     },
     "metadata": {
      "needs_background": "light"
     },
     "output_type": "display_data"
    },
    {
     "data": {
      "image/png": "[encoded data removed]",
      "text/plain": [
       "<Figure size 432x288 with 1 Axes>"
      ]
     },
     "metadata": {
      "needs_background": "light"
     },
     "output_type": "display_data"
    }
   ],
   "source": [
    "acc = history.history[\"acc\"]\n",
    "val_acc = history.history[\"val_acc\"]\n",
    "loss = history.history[\"loss\"]\n",
    "val_loss = history.history[\"val_loss\"]\n",
    "\n",
    "epochs = range(len(acc))\n",
    "\n",
    "plt.plot(epochs, acc, \"bo\", label=\"Training accuracy\")\n",
    "plt.plot(epochs, val_acc, \"b\", label=\"Validation accuracy\")\n",
    "plt.title(\"Training and validation accuracy\")\n",
    "\n",
    "plt.figure()\n",
    "\n",
    "plt.plot(epochs, loss, \"bo\", label=\"Training Loss\")\n",
    "plt.plot(epochs, val_loss, \"b\", label=\"Validation Loss\")\n",
    "plt.title(\"Training and validation loss\")\n",
    "plt.legend()\n",
    "\n",
    "plt.show()"
   ]
  },
  {
   "cell_type": "code",
   "execution_count": 44,
   "metadata": {},
   "outputs": [],
   "source": [
    "model.save(\"inception_25_epochs_5_percent_validation.h5\")"
   ]
  },
  {
   "cell_type": "markdown",
   "metadata": {},
   "source": [
    "Displays signs of overfitting. Training for fewer epochs to prevent overfitting"
   ]
  },
  {
   "cell_type": "code",
   "execution_count": 47,
   "metadata": {},
   "outputs": [],
   "source": [
    "x = layers.Flatten()(last_output)\n",
    "x = layers.Dense(1024, activation=\"relu\")(x)\n",
    "x = layers.Dense(120, activation=\"softmax\")(x)\n",
    "\n",
    "model_15_epochs = Model(pre_trained_model.input, x)\n",
    "\n",
    "model_15_epochs.compile(\n",
    "    loss=\"sparse_categorical_crossentropy\", optimizer=\"adam\", metrics=[\"acc\"]\n",
    ")"
   ]
  },
  {
   "cell_type": "code",
   "execution_count": 48,
   "metadata": {},
   "outputs": [
    {
     "name": "stdout",
     "output_type": "stream",
     "text": [
      "WARNING:tensorflow:sample_weight modes were coerced from\n",
      "  ...\n",
      "    to  \n",
      "  ['...']\n",
      "WARNING:tensorflow:sample_weight modes were coerced from\n",
      "  ...\n",
      "    to  \n",
      "  ['...']\n",
      "Train for 972 steps, validate for 53 steps\n",
      "Epoch 1/15\n",
      "972/972 [==============================] - 240s 247ms/step - loss: 4.5945 - acc: 0.0279 - val_loss: 4.5673 - val_acc: 0.0806\n",
      "Epoch 2/15\n",
      "972/972 [==============================] - 240s 247ms/step - loss: 4.0102 - acc: 0.0811 - val_loss: 4.4138 - val_acc: 0.1382\n",
      "Epoch 3/15\n",
      "972/972 [==============================] - 237s 244ms/step - loss: 3.6923 - acc: 0.1218 - val_loss: 4.4073 - val_acc: 0.2073\n",
      "Epoch 4/15\n",
      "972/972 [==============================] - 238s 245ms/step - loss: 3.5285 - acc: 0.1452 - val_loss: 3.9616 - val_acc: 0.2438\n",
      "Epoch 5/15\n",
      "972/972 [==============================] - 245s 252ms/step - loss: 3.4403 - acc: 0.1560 - val_loss: 4.1499 - val_acc: 0.2572\n",
      "Epoch 6/15\n",
      "972/972 [==============================] - 248s 256ms/step - loss: 3.3867 - acc: 0.1691 - val_loss: 4.1083 - val_acc: 0.2553\n",
      "Epoch 7/15\n",
      "972/972 [==============================] - 250s 257ms/step - loss: 3.3475 - acc: 0.1733 - val_loss: 4.2663 - val_acc: 0.2361\n",
      "Epoch 8/15\n",
      "972/972 [==============================] - 251s 258ms/step - loss: 3.2989 - acc: 0.1832 - val_loss: 4.7686 - val_acc: 0.2514\n",
      "Epoch 9/15\n",
      "972/972 [==============================] - 252s 259ms/step - loss: 3.2819 - acc: 0.1893 - val_loss: 4.4664 - val_acc: 0.2476\n",
      "Epoch 10/15\n",
      "972/972 [==============================] - 254s 261ms/step - loss: 3.2498 - acc: 0.1937 - val_loss: 4.3592 - val_acc: 0.2879\n",
      "Epoch 11/15\n",
      "972/972 [==============================] - 266s 274ms/step - loss: 3.2368 - acc: 0.1972 - val_loss: 4.5484 - val_acc: 0.2534\n",
      "Epoch 12/15\n",
      "972/972 [==============================] - 274s 282ms/step - loss: 3.2329 - acc: 0.1905 - val_loss: 3.9833 - val_acc: 0.2956\n",
      "Epoch 13/15\n",
      "972/972 [==============================] - 270s 278ms/step - loss: 3.2080 - acc: 0.1946 - val_loss: 4.3006 - val_acc: 0.2726\n",
      "Epoch 14/15\n",
      "972/972 [==============================] - 260s 267ms/step - loss: 3.1941 - acc: 0.2038 - val_loss: 4.2521 - val_acc: 0.2649\n",
      "Epoch 15/15\n",
      "972/972 [==============================] - 255s 262ms/step - loss: 3.1984 - acc: 0.1994 - val_loss: 4.4164 - val_acc: 0.2975\n"
     ]
    }
   ],
   "source": [
    "history = model_15_epochs.fit_generator(\n",
    "    train_generator,\n",
    "    steps_per_epoch=972,\n",
    "    epochs=15,\n",
    "    verbose=1,\n",
    "    validation_data=validation_generator,\n",
    ")"
   ]
  },
  {
   "cell_type": "code",
   "execution_count": 51,
   "metadata": {},
   "outputs": [],
   "source": [
    "model_15_epochs.save(\"inception_15_epochs_5_percent_validation.h5\")"
   ]
  },
  {
   "cell_type": "code",
   "execution_count": 50,
   "metadata": {},
   "outputs": [
    {
     "data": {
      "image/png": "[encoded data removed]",
      "text/plain": [
       "<Figure size 432x288 with 1 Axes>"
      ]
     },
     "metadata": {
      "needs_background": "light"
     },
     "output_type": "display_data"
    },
    {
     "data": {
      "image/png": "[encoded data removed]",
      "text/plain": [
       "<Figure size 432x288 with 1 Axes>"
      ]
     },
     "metadata": {
      "needs_background": "light"
     },
     "output_type": "display_data"
    }
   ],
   "source": [
    "acc = history.history[\"acc\"]\n",
    "val_acc = history.history[\"val_acc\"]\n",
    "loss = history.history[\"loss\"]\n",
    "val_loss = history.history[\"val_loss\"]\n",
    "\n",
    "epochs = range(len(acc))\n",
    "\n",
    "plt.plot(epochs, acc, \"bo\", label=\"Training accuracy\")\n",
    "plt.plot(epochs, val_acc, \"b\", label=\"Validation accuracy\")\n",
    "plt.title(\"Training and validation accuracy\")\n",
    "\n",
    "plt.figure()\n",
    "\n",
    "plt.plot(epochs, loss, \"bo\", label=\"Training Loss\")\n",
    "plt.plot(epochs, val_loss, \"b\", label=\"Validation Loss\")\n",
    "plt.title(\"Training and validation loss\")\n",
    "plt.legend()\n",
    "\n",
    "plt.show()"
   ]
  },
  {
   "cell_type": "markdown",
   "metadata": {},
   "source": [
    "Obtains a loss of 4.217 on the test dataset. "
   ]
  },
  {
   "cell_type": "code",
   "execution_count": null,
   "metadata": {},
   "outputs": [],
   "source": []
  }
 ],
 "metadata": {
  "kernelspec": {
   "display_name": "Python 3",
   "language": "python",
   "name": "python3"
  },
  "language_info": {
   "codemirror_mode": {
    "name": "ipython",
    "version": 3
   },
   "file_extension": ".py",
   "mimetype": "text/x-python",
   "name": "python",
   "nbconvert_exporter": "python",
   "pygments_lexer": "ipython3",
   "version": "3.7.6"
  }
 },
 "nbformat": 4,
 "nbformat_minor": 4
}
