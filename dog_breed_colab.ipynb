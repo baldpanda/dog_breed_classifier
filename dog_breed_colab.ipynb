{
  "nbformat": 4,
  "nbformat_minor": 0,
  "metadata": {
    "colab": {
      "name": "dog_breed_colab.ipynb",
      "version": "0.3.2",
      "provenance": [],
      "collapsed_sections": [],
      "include_colab_link": true
    },
    "kernelspec": {
      "name": "python3",
      "display_name": "Python 3"
    },
    "accelerator": "TPU"
  },
  "cells": [
    {
      "cell_type": "markdown",
      "metadata": {
        "id": "view-in-github",
        "colab_type": "text"
      },
      "source": [
        "<a href=\"https://colab.research.google.com/github/baldpanda/dog_breed_classifier/blob/running-cnn-on-kaggle-test/dog_breed_colab.ipynb\" target=\"_parent\"><img src=\"https://colab.research.google.com/assets/colab-badge.svg\" alt=\"Open In Colab\"/></a>"
      ]
    },
    {
      "cell_type": "markdown",
      "metadata": {
        "id": "Ik0G1rLzm4Wq",
        "colab_type": "text"
      },
      "source": [
        "# Dog Breed Classification"
      ]
    },
    {
      "cell_type": "markdown",
      "metadata": {
        "id": "drNB6rBsnC04",
        "colab_type": "text"
      },
      "source": [
        "Playing with TensorFlow and Neural Networks to build a classifier to predict the breed given an image of a dog. The source of the dataset was Kaggle and the competition related to this task can be found [here](https://www.kaggle.com/c/dog-breed-identification). Storing the training data on Google Drive for easy integration with colab. Using Colab to take advantage of the compute power and I'm not sure my current laptop could cope with this task."
      ]
    },
    {
      "cell_type": "code",
      "metadata": {
        "id": "TADoL-fqm3Gg",
        "colab_type": "code",
        "outputId": "ec117598-dc3b-48ed-c402-480dfa7a578a",
        "colab": {
          "base_uri": "https://localhost:8080/",
          "height": 34
        }
      },
      "source": [
        "import tensorflow as tf\n",
        "import numpy as np\n",
        "import os\n",
        "from tensorflow.keras.preprocessing.image import ImageDataGenerator\n",
        "import matplotlib.pyplot as plt\n",
        "from google.colab import drive\n",
        "from PIL import Image\n",
        "import random\n",
        "print(tf.VERSION)"
      ],
      "execution_count": 1,
      "outputs": [
        {
          "output_type": "stream",
          "text": [
            "1.13.1\n"
          ],
          "name": "stdout"
        }
      ]
    },
    {
      "cell_type": "code",
      "metadata": {
        "id": "9SbW0ZMV7lIP",
        "colab_type": "code",
        "colab": {}
      },
      "source": [
        "DRIVE_BASE_PATH = '/content/drive/My Drive/'\n",
        "LABELS_PATH = DRIVE_BASE_PATH +  'dog_breed_classification/dog_breeds'\n",
        "ST_BERNARD_SAMPLE_IMAGE_PATH = LABELS_PATH + '/saint_bernard/1b26fc0e227488f288c753c84a88ca6c.jpg'\n",
        "MODEL_PATH = DRIVE_BASE_PATH + 'dog_breed_classification/model_test_one_epoch.h5'\n",
        "TEST_DATA_PATH = DRIVE_BASE_PATH + 'dog_breed_classification/' + 'test/'"
      ],
      "execution_count": 0,
      "outputs": []
    },
    {
      "cell_type": "markdown",
      "metadata": {
        "id": "WomVf-doVZBq",
        "colab_type": "text"
      },
      "source": [
        "Loading in training data from Google Drive."
      ]
    },
    {
      "cell_type": "code",
      "metadata": {
        "id": "3ruZEunQm-sa",
        "colab_type": "code",
        "outputId": "696793f5-da84-49e7-cf24-054c9d90d553",
        "colab": {
          "base_uri": "https://localhost:8080/",
          "height": 122
        }
      },
      "source": [
        "drive.mount('/content/drive')"
      ],
      "execution_count": 3,
      "outputs": [
        {
          "output_type": "stream",
          "text": [
            "Go to this URL in a browser: https://accounts.google.com/o/oauth2/auth?client_id=947318989803-6bn6qk8qdgf4n4g3pfee6491hc0brc4i.apps.googleusercontent.com&redirect_uri=urn%3Aietf%3Awg%3Aoauth%3A2.0%3Aoob&scope=email%20https%3A%2F%2Fwww.googleapis.com%2Fauth%2Fdocs.test%20https%3A%2F%2Fwww.googleapis.com%2Fauth%2Fdrive%20https%3A%2F%2Fwww.googleapis.com%2Fauth%2Fdrive.photos.readonly%20https%3A%2F%2Fwww.googleapis.com%2Fauth%2Fpeopleapi.readonly&response_type=code\n",
            "\n",
            "Enter your authorization code:\n",
            "··········\n",
            "Mounted at /content/drive\n"
          ],
          "name": "stdout"
        }
      ]
    },
    {
      "cell_type": "code",
      "metadata": {
        "id": "AC06904zHYzM",
        "colab_type": "code",
        "colab": {}
      },
      "source": [
        "# Extracting the dog breed labels from Google Drive\n",
        "dog_breeds = os.listdir(LABELS_PATH)"
      ],
      "execution_count": 0,
      "outputs": []
    },
    {
      "cell_type": "code",
      "metadata": {
        "id": "q_rnyp2-5DiY",
        "colab_type": "code",
        "colab": {}
      },
      "source": [
        "st_bernard_image = Image.open(ST_BERNARD_SAMPLE_IMAGE_PATH)"
      ],
      "execution_count": 0,
      "outputs": []
    },
    {
      "cell_type": "code",
      "metadata": {
        "id": "2jdiZ1U85-YA",
        "colab_type": "code",
        "outputId": "8d6e8d04-0497-4d95-c4d7-46d0575004b2",
        "colab": {
          "base_uri": "https://localhost:8080/",
          "height": 281
        }
      },
      "source": [
        "plt.imshow(st_bernard_image)\n",
        "plt.title(\"St. Bernard Image\")\n",
        "plt.show()"
      ],
      "execution_count": 6,
      "outputs": [
        {
          "output_type": "display_data",
          "data": {
            "image/png": "[encoded data removed]",
            "text/plain": [
              "<Figure size 432x288 with 1 Axes>"
            ]
          },
          "metadata": {
            "tags": []
          }
        }
      ]
    },
    {
      "cell_type": "markdown",
      "metadata": {
        "id": "MSE0Uc0fIGrJ",
        "colab_type": "text"
      },
      "source": [
        "## Baseline model\n",
        "\n",
        "A baseline model could be to research the most common dog breed and always predict that breed. \n",
        "\n",
        "Based from some brief research the most common dog breed is a Labrador Retriever."
      ]
    },
    {
      "cell_type": "code",
      "metadata": {
        "id": "_UacGjwzIFhK",
        "colab_type": "code",
        "outputId": "2061830a-fe74-412a-fab9-02480dcd2448",
        "colab": {
          "base_uri": "https://localhost:8080/",
          "height": 34
        }
      },
      "source": [
        "print(\"The accuracy of the baseline model on the training data is {0:.2f}%.\".format(100 * len(os.listdir(LABELS_PATH + \"/labrador_retriever\"))/10222))"
      ],
      "execution_count": 7,
      "outputs": [
        {
          "output_type": "stream",
          "text": [
            "The accuracy of the baseline model on the training data is 0.82%.\n"
          ],
          "name": "stdout"
        }
      ]
    },
    {
      "cell_type": "markdown",
      "metadata": {
        "id": "aeidQu9SKMuy",
        "colab_type": "text"
      },
      "source": [
        "## Training basic CNN using Keras"
      ]
    },
    {
      "cell_type": "markdown",
      "metadata": {
        "id": "TClkZno3v7ip",
        "colab_type": "text"
      },
      "source": [
        "Using  Keras's ImageDataGenerator to label the images of dogs for training a CNN"
      ]
    },
    {
      "cell_type": "code",
      "metadata": {
        "id": "wej0vX2TwEzI",
        "colab_type": "code",
        "colab": {}
      },
      "source": [
        "train_data_generator = ImageDataGenerator(rescale = 1/255)"
      ],
      "execution_count": 0,
      "outputs": []
    },
    {
      "cell_type": "code",
      "metadata": {
        "id": "wfUKSGshwXB_",
        "colab_type": "code",
        "outputId": "e68112ad-c2ee-4848-f980-049a0ae4b92e",
        "colab": {
          "base_uri": "https://localhost:8080/",
          "height": 34
        }
      },
      "source": [
        "train_generator = train_data_generator.flow_from_directory(\n",
        "    LABELS_PATH,\n",
        "    target_size=(300,300),\n",
        "    batch_size=269,\n",
        "    class_mode='sparse'\n",
        ")"
      ],
      "execution_count": 9,
      "outputs": [
        {
          "output_type": "stream",
          "text": [
            "Found 10222 images belonging to 120 classes.\n"
          ],
          "name": "stdout"
        }
      ]
    },
    {
      "cell_type": "code",
      "metadata": {
        "id": "Pby3fwxAxnk1",
        "colab_type": "code",
        "outputId": "0ea87024-8a72-4243-be7b-3975edec9648",
        "colab": {
          "base_uri": "https://localhost:8080/",
          "height": 88
        }
      },
      "source": [
        "model = tf.keras.models.Sequential([\n",
        "    tf.keras.layers.Conv2D(16, (3,3), activation='relu', input_shape=(300, 300, 3)),\n",
        "    tf.keras.layers.MaxPooling2D(2,2),\n",
        "    tf.keras.layers.Conv2D(32, (3,3), activation='relu'),\n",
        "    tf.keras.layers.MaxPooling2D(2,2),\n",
        "    tf.keras.layers.Conv2D(64, (3,3), activation='relu'),\n",
        "    tf.keras.layers.MaxPooling2D(2,2),\n",
        "    tf.keras.layers.Flatten(),\n",
        "    tf.keras.layers.Dense(512, activation='relu'),\n",
        "    tf.keras.layers.Dense(120, activation='softmax')\n",
        "])"
      ],
      "execution_count": 10,
      "outputs": [
        {
          "output_type": "stream",
          "text": [
            "WARNING:tensorflow:From /usr/local/lib/python3.6/dist-packages/tensorflow/python/ops/resource_variable_ops.py:435: colocate_with (from tensorflow.python.framework.ops) is deprecated and will be removed in a future version.\n",
            "Instructions for updating:\n",
            "Colocations handled automatically by placer.\n"
          ],
          "name": "stdout"
        }
      ]
    },
    {
      "cell_type": "code",
      "metadata": {
        "id": "7nw0F-5ny4NG",
        "colab_type": "code",
        "colab": {}
      },
      "source": [
        "model.compile(loss='sparse_categorical_crossentropy', optimizer='adam', metrics=['accuracy'])"
      ],
      "execution_count": 0,
      "outputs": []
    },
    {
      "cell_type": "code",
      "metadata": {
        "id": "IcrEPguc3A7F",
        "colab_type": "code",
        "colab": {}
      },
      "source": [
        "model = tf.keras.models.load_model(\"/content/drive/My Drive/dog_breed_classification/model_test_three_epochs.h5\")"
      ],
      "execution_count": 0,
      "outputs": []
    },
    {
      "cell_type": "markdown",
      "metadata": {
        "id": "G26gqI8N7zqx",
        "colab_type": "text"
      },
      "source": [
        "## Testing model on training image of St. Bernard shown previously"
      ]
    },
    {
      "cell_type": "code",
      "metadata": {
        "id": "BS7U4l4auQ2q",
        "colab_type": "code",
        "colab": {}
      },
      "source": [
        "# reshaping and normalizing image to same format as training data\n",
        "st_bernard_image_scaled = st_bernard_image.resize((300,300), Image.NEAREST)\n",
        "np_st_bernard = np.array(st_bernard_image_scaled)\n",
        "np_st_bernard = np_st_bernard / 255.0\n",
        "np_st_bernard = np_st_bernard.reshape(1, 300, 300, 3)"
      ],
      "execution_count": 0,
      "outputs": []
    },
    {
      "cell_type": "code",
      "metadata": {
        "id": "1U-cuE3M8X9c",
        "colab_type": "code",
        "outputId": "4da7f1d7-ef6f-42fe-f3d2-e6b9619bdf88",
        "colab": {
          "base_uri": "https://localhost:8080/",
          "height": 34
        }
      },
      "source": [
        "predicted_breed = model.predict(np_st_bernard).argmax(axis=-1)[0]\n",
        "dog_breeds[predicted_breed]"
      ],
      "execution_count": 14,
      "outputs": [
        {
          "output_type": "execute_result",
          "data": {
            "text/plain": [
              "'samoyed'"
            ]
          },
          "metadata": {
            "tags": []
          },
          "execution_count": 14
        }
      ]
    },
    {
      "cell_type": "markdown",
      "metadata": {
        "id": "a3x7YmerrsZO",
        "colab_type": "text"
      },
      "source": [
        "## Creating a function to take image from training data at random and run model to make prediction"
      ]
    },
    {
      "cell_type": "code",
      "metadata": {
        "id": "ABuSA3Vir7Nw",
        "colab_type": "code",
        "outputId": "3f2c4959-d80e-4090-88fc-fe0c74f684e5",
        "colab": {
          "base_uri": "https://localhost:8080/",
          "height": 34
        }
      },
      "source": [
        "number_of_categories = len(dog_breeds)\n",
        "print(\"The number of different breeds in the training data are {}.\".format(number_of_categories))"
      ],
      "execution_count": 15,
      "outputs": [
        {
          "output_type": "stream",
          "text": [
            "The number of different breeds in the training data are 120.\n"
          ],
          "name": "stdout"
        }
      ]
    },
    {
      "cell_type": "code",
      "metadata": {
        "id": "Fnp6FVMbs6dt",
        "colab_type": "code",
        "outputId": "f8e1dac4-2dd4-4405-ed29-f841b3ab25cf",
        "colab": {
          "base_uri": "https://localhost:8080/",
          "height": 34
        }
      },
      "source": [
        "# Picking dog at random from training data\n",
        "rand_picked_breed = dog_breeds[random.randint(1,number_of_categories)]\n",
        "print(\"The breed picked at random is {}.\".format(rand_picked_breed))"
      ],
      "execution_count": 16,
      "outputs": [
        {
          "output_type": "stream",
          "text": [
            "The breed picked at random is schipperke.\n"
          ],
          "name": "stdout"
        }
      ]
    },
    {
      "cell_type": "code",
      "metadata": {
        "id": "xq-6tdGztjP3",
        "colab_type": "code",
        "colab": {}
      },
      "source": [
        "path_for_rand_breed = LABELS_PATH + \"/\" + rand_picked_breed\n",
        "images_in_directory = os.listdir(path_for_rand_breed)\n",
        "rand_picked_image = images_in_directory[random.randint(1, len(images_in_directory))]\n",
        "rand_image_path = path_for_rand_breed + \"/\" + rand_picked_image\n",
        "rand_picked_image = Image.open(rand_image_path)"
      ],
      "execution_count": 0,
      "outputs": []
    },
    {
      "cell_type": "code",
      "metadata": {
        "id": "OpQbjfgHuUQO",
        "colab_type": "code",
        "outputId": "13919527-6fd9-4e13-e52d-247aea1433e2",
        "colab": {
          "base_uri": "https://localhost:8080/",
          "height": 281
        }
      },
      "source": [
        "plt.imshow(rand_picked_image)\n",
        "plt.title(rand_picked_breed)\n",
        "plt.show()"
      ],
      "execution_count": 18,
      "outputs": [
        {
          "output_type": "display_data",
          "data": {
            "image/png": "[encoded data removed]",
            "text/plain": [
              "<Figure size 432x288 with 1 Axes>"
            ]
          },
          "metadata": {
            "tags": []
          }
        }
      ]
    },
    {
      "cell_type": "code",
      "metadata": {
        "id": "QtC-Ct6-vb_X",
        "colab_type": "code",
        "colab": {}
      },
      "source": [
        "rand_picked_image_scaled = rand_picked_image.resize((300, 300), Image.NEAREST)\n",
        "np_rand_picked_image_scaled = np.array(rand_picked_image_scaled)\n",
        "np_rand_picked_image_norm = np_rand_picked_image_scaled / 255.0\n",
        "np_rand_picked_image_norm = np_rand_picked_image_norm.reshape(1, 300, 300, 3)"
      ],
      "execution_count": 0,
      "outputs": []
    },
    {
      "cell_type": "code",
      "metadata": {
        "id": "FrJz787uwGWq",
        "colab_type": "code",
        "outputId": "b1bf7fa5-7ebe-4f5a-ebde-176f3fa68b0a",
        "colab": {
          "base_uri": "https://localhost:8080/",
          "height": 34
        }
      },
      "source": [
        "predicted_breed = dog_breeds[model.predict(np_rand_picked_image_norm).argmax(axis=-1)[0]]\n",
        "print(\"Predicted breed of dog is {}, and the actual breed is {}.\".format(predicted_breed, rand_picked_breed))"
      ],
      "execution_count": 20,
      "outputs": [
        {
          "output_type": "stream",
          "text": [
            "Predicted breed of dog is great_pyrenees, and the actual breed is schipperke.\n"
          ],
          "name": "stdout"
        }
      ]
    },
    {
      "cell_type": "markdown",
      "metadata": {
        "id": "fl0zpgzSye-x",
        "colab_type": "text"
      },
      "source": [
        "Making functions to format image and to predict its breed"
      ]
    },
    {
      "cell_type": "code",
      "metadata": {
        "id": "CpnQ0KZ-wer4",
        "colab_type": "code",
        "colab": {}
      },
      "source": [
        "def format_image_for_model(image):\n",
        "  image_scaled = image.resize((300, 300), Image.NEAREST)\n",
        "  image_scaled_array = np.array(image_scaled)\n",
        "  image_scaled_array_norm = image_scaled_array / 255.0\n",
        "  image_scaled_array_norm = image_scaled_array_norm.reshape(1, 300, 300, 3)\n",
        "  return image_scaled_array_norm"
      ],
      "execution_count": 0,
      "outputs": []
    },
    {
      "cell_type": "code",
      "metadata": {
        "id": "EHXzZljqxH4E",
        "colab_type": "code",
        "colab": {}
      },
      "source": [
        "def predict_breed(model, image, labels):\n",
        "  formatted_image = format_image_for_model(image)\n",
        "  model_prediction = model.predict(formatted_image).argmax(axis=-1)[0]\n",
        "  predicted_breed = labels[model_prediction]\n",
        "  return predicted_breed"
      ],
      "execution_count": 0,
      "outputs": []
    },
    {
      "cell_type": "code",
      "metadata": {
        "id": "sDCWe8hMyJhf",
        "colab_type": "code",
        "outputId": "18bcfd3c-1e4b-41df-f7de-297442e8cc73",
        "colab": {
          "base_uri": "https://localhost:8080/",
          "height": 34
        }
      },
      "source": [
        "predict_breed(model, rand_picked_image, dog_breeds)"
      ],
      "execution_count": 23,
      "outputs": [
        {
          "output_type": "execute_result",
          "data": {
            "text/plain": [
              "'great_pyrenees'"
            ]
          },
          "metadata": {
            "tags": []
          },
          "execution_count": 23
        }
      ]
    },
    {
      "cell_type": "markdown",
      "metadata": {
        "id": "BdWm_dcTzIJk",
        "colab_type": "text"
      },
      "source": [
        "## Training model for 3 epochs to try and improve accuracy"
      ]
    },
    {
      "cell_type": "code",
      "metadata": {
        "id": "P3LU1tJmyzCy",
        "colab_type": "code",
        "colab": {}
      },
      "source": [
        "# history = model.fit_generator(train_generator, steps_per_epoch=38, epochs=3, verbose=2)"
      ],
      "execution_count": 0,
      "outputs": []
    },
    {
      "cell_type": "code",
      "metadata": {
        "id": "ZpH_AQ6wJ8zu",
        "colab_type": "code",
        "colab": {}
      },
      "source": [
        "# model.save(\"/content/drive/My Drive/dog_breed_classification/model_test_three_epochs.h5\")"
      ],
      "execution_count": 0,
      "outputs": []
    },
    {
      "cell_type": "code",
      "metadata": {
        "id": "_raECbL1KTcp",
        "colab_type": "code",
        "outputId": "351ed28c-c79c-40c8-abd1-31182a47fb19",
        "colab": {
          "base_uri": "https://localhost:8080/",
          "height": 34
        }
      },
      "source": [
        "predict_breed(model, rand_picked_image, dog_breeds)"
      ],
      "execution_count": 26,
      "outputs": [
        {
          "output_type": "execute_result",
          "data": {
            "text/plain": [
              "'great_pyrenees'"
            ]
          },
          "metadata": {
            "tags": []
          },
          "execution_count": 26
        }
      ]
    },
    {
      "cell_type": "markdown",
      "metadata": {
        "id": "5QairiZRaadG",
        "colab_type": "text"
      },
      "source": [
        "## Testing how the model generalises on Kaggle test set"
      ]
    },
    {
      "cell_type": "code",
      "metadata": {
        "id": "ozD7UIEraZyF",
        "colab_type": "code",
        "colab": {}
      },
      "source": [
        "HEADER_TEST_FILE = ','.join(dog_breeds)\n",
        "test_image_path = os.listdir(TEST_DATA_PATH)"
      ],
      "execution_count": 0,
      "outputs": []
    },
    {
      "cell_type": "code",
      "metadata": {
        "id": "3BHAPjpqhtUt",
        "colab_type": "code",
        "colab": {}
      },
      "source": [
        "number_of_test_images = len(test_image_path)"
      ],
      "execution_count": 0,
      "outputs": []
    },
    {
      "cell_type": "code",
      "metadata": {
        "id": "etLBX-0wh0o6",
        "colab_type": "code",
        "colab": {
          "base_uri": "https://localhost:8080/",
          "height": 14926
        },
        "outputId": "8cdc43e2-246f-44cb-dc8c-3a200a197db9"
      },
      "source": [
        "for image in test_image_path:\n",
        "  image_full_path = TEST_DATA_PATH + image\n",
        "  image_pix = Image.open(image_full_path)\n",
        "  print(predict_breed(model, image_pix, dog_breeds))"
      ],
      "execution_count": 0,
      "outputs": [
        {
          "output_type": "stream",
          "text": [
            "standard_poodle\n",
            "malamute\n",
            "irish_wolfhound\n",
            "walker_hound\n",
            "affenpinscher\n",
            "malamute\n",
            "norfolk_terrier\n",
            "greater_swiss_mountain_dog\n",
            "saluki\n",
            "malinois\n",
            "miniature_pinscher\n",
            "bloodhound\n",
            "english_setter\n",
            "whippet\n",
            "leonberg\n",
            "pomeranian\n",
            "black-and-tan_coonhound\n",
            "irish_wolfhound\n",
            "affenpinscher\n",
            "saint_bernard\n",
            "irish_wolfhound\n",
            "saluki\n",
            "chow\n",
            "redbone\n",
            "borzoi\n",
            "shetland_sheepdog\n",
            "leonberg\n",
            "affenpinscher\n",
            "saluki\n",
            "black-and-tan_coonhound\n",
            "walker_hound\n",
            "kuvasz\n",
            "dhole\n",
            "irish_wolfhound\n",
            "saluki\n",
            "newfoundland\n",
            "soft-coated_wheaten_terrier\n",
            "bedlington_terrier\n",
            "redbone\n",
            "bedlington_terrier\n",
            "english_setter\n",
            "bloodhound\n",
            "leonberg\n",
            "great_pyrenees\n",
            "saluki\n",
            "bedlington_terrier\n",
            "malamute\n",
            "bluetick\n",
            "boston_bull\n",
            "black-and-tan_coonhound\n",
            "malamute\n",
            "leonberg\n",
            "entlebucher\n",
            "pomeranian\n",
            "bluetick\n",
            "border_collie\n",
            "saluki\n",
            "affenpinscher\n",
            "redbone\n",
            "saluki\n",
            "redbone\n",
            "dhole\n",
            "sealyham_terrier\n",
            "border_collie\n",
            "saint_bernard\n",
            "collie\n",
            "norwich_terrier\n",
            "samoyed\n",
            "border_collie\n",
            "walker_hound\n",
            "bernese_mountain_dog\n",
            "clumber\n",
            "scotch_terrier\n",
            "gordon_setter\n",
            "english_springer\n",
            "rhodesian_ridgeback\n",
            "appenzeller\n",
            "basset\n",
            "bedlington_terrier\n",
            "standard_schnauzer\n",
            "clumber\n",
            "lhasa\n",
            "irish_wolfhound\n",
            "english_springer\n",
            "saluki\n",
            "gordon_setter\n",
            "leonberg\n",
            "italian_greyhound\n",
            "saluki\n",
            "leonberg\n",
            "malinois\n",
            "redbone\n",
            "irish_wolfhound\n",
            "saint_bernard\n",
            "english_foxhound\n",
            "bloodhound\n",
            "lakeland_terrier\n",
            "greater_swiss_mountain_dog\n",
            "wire-haired_fox_terrier\n",
            "ibizan_hound\n",
            "greater_swiss_mountain_dog\n",
            "malinois\n",
            "toy_poodle\n",
            "shih-tzu\n",
            "basenji\n",
            "cairn\n",
            "toy_poodle\n",
            "japanese_spaniel\n",
            "saluki\n",
            "japanese_spaniel\n",
            "whippet\n",
            "tibetan_mastiff\n",
            "walker_hound\n",
            "irish_water_spaniel\n",
            "leonberg\n",
            "dhole\n",
            "irish_wolfhound\n",
            "saluki\n",
            "bloodhound\n",
            "bluetick\n",
            "kerry_blue_terrier\n",
            "collie\n",
            "maltese_dog\n",
            "english_setter\n",
            "standard_schnauzer\n",
            "affenpinscher\n",
            "irish_wolfhound\n",
            "italian_greyhound\n",
            "airedale\n",
            "miniature_pinscher\n",
            "standard_schnauzer\n",
            "affenpinscher\n",
            "black-and-tan_coonhound\n",
            "walker_hound\n",
            "bluetick\n",
            "bernese_mountain_dog\n",
            "pomeranian\n",
            "english_foxhound\n",
            "chow\n",
            "border_collie\n",
            "pomeranian\n",
            "japanese_spaniel\n",
            "english_springer\n",
            "toy_poodle\n",
            "bloodhound\n",
            "standard_schnauzer\n",
            "dhole\n",
            "walker_hound\n",
            "italian_greyhound\n",
            "norfolk_terrier\n",
            "irish_wolfhound\n",
            "redbone\n",
            "dingo\n",
            "clumber\n",
            "irish_wolfhound\n",
            "malinois\n",
            "german_shepherd\n",
            "standard_schnauzer\n",
            "great_pyrenees\n",
            "redbone\n",
            "saint_bernard\n",
            "bernese_mountain_dog\n",
            "walker_hound\n",
            "saluki\n",
            "clumber\n",
            "irish_wolfhound\n",
            "greater_swiss_mountain_dog\n",
            "dhole\n",
            "leonberg\n",
            "bluetick\n",
            "bloodhound\n",
            "bedlington_terrier\n",
            "sealyham_terrier\n",
            "bernese_mountain_dog\n",
            "miniature_pinscher\n",
            "shih-tzu\n",
            "affenpinscher\n",
            "dhole\n",
            "saint_bernard\n",
            "lakeland_terrier\n",
            "standard_schnauzer\n",
            "redbone\n",
            "labrador_retriever\n",
            "english_foxhound\n",
            "bernese_mountain_dog\n",
            "affenpinscher\n",
            "tibetan_mastiff\n",
            "saint_bernard\n",
            "shetland_sheepdog\n",
            "redbone\n",
            "irish_wolfhound\n",
            "standard_schnauzer\n",
            "appenzeller\n",
            "affenpinscher\n",
            "newfoundland\n",
            "border_collie\n",
            "affenpinscher\n",
            "maltese_dog\n",
            "german_shepherd\n",
            "borzoi\n",
            "saluki\n",
            "gordon_setter\n",
            "irish_wolfhound\n",
            "dhole\n",
            "standard_schnauzer\n",
            "irish_wolfhound\n",
            "lakeland_terrier\n",
            "kuvasz\n",
            "mexican_hairless\n",
            "malamute\n",
            "border_collie\n",
            "bloodhound\n",
            "norwich_terrier\n",
            "gordon_setter\n",
            "affenpinscher\n",
            "shih-tzu\n",
            "entlebucher\n",
            "walker_hound\n",
            "affenpinscher\n",
            "yorkshire_terrier\n",
            "redbone\n",
            "leonberg\n",
            "cocker_spaniel\n",
            "gordon_setter\n",
            "greater_swiss_mountain_dog\n",
            "great_pyrenees\n",
            "malinois\n",
            "great_pyrenees\n",
            "lakeland_terrier\n",
            "appenzeller\n",
            "miniature_pinscher\n",
            "irish_setter\n",
            "pomeranian\n",
            "great_pyrenees\n",
            "great_pyrenees\n",
            "gordon_setter\n",
            "borzoi\n",
            "saluki\n",
            "bloodhound\n",
            "border_collie\n",
            "affenpinscher\n",
            "kuvasz\n",
            "irish_water_spaniel\n",
            "italian_greyhound\n",
            "german_shepherd\n",
            "leonberg\n",
            "clumber\n",
            "affenpinscher\n",
            "affenpinscher\n",
            "saluki\n",
            "soft-coated_wheaten_terrier\n",
            "pomeranian\n",
            "appenzeller\n",
            "affenpinscher\n",
            "bloodhound\n",
            "malinois\n",
            "bloodhound\n",
            "basset\n",
            "irish_wolfhound\n",
            "walker_hound\n",
            "basset\n",
            "irish_wolfhound\n",
            "saluki\n",
            "saluki\n",
            "toy_poodle\n",
            "ibizan_hound\n",
            "italian_greyhound\n",
            "lhasa\n",
            "redbone\n",
            "black-and-tan_coonhound\n",
            "staffordshire_bullterrier\n",
            "norfolk_terrier\n",
            "english_foxhound\n",
            "italian_greyhound\n",
            "scottish_deerhound\n",
            "walker_hound\n",
            "tibetan_mastiff\n",
            "american_staffordshire_terrier\n",
            "norwegian_elkhound\n",
            "saint_bernard\n",
            "german_shepherd\n",
            "english_setter\n",
            "entlebucher\n",
            "miniature_pinscher\n",
            "norwegian_elkhound\n",
            "dingo\n",
            "saluki\n",
            "saluki\n",
            "french_bulldog\n",
            "standard_schnauzer\n",
            "redbone\n",
            "great_pyrenees\n",
            "irish_water_spaniel\n",
            "bedlington_terrier\n",
            "pomeranian\n",
            "gordon_setter\n",
            "lhasa\n",
            "malinois\n",
            "dhole\n",
            "pomeranian\n",
            "basset\n",
            "black-and-tan_coonhound\n",
            "saint_bernard\n",
            "chow\n",
            "miniature_pinscher\n",
            "greater_swiss_mountain_dog\n",
            "irish_water_spaniel\n",
            "italian_greyhound\n",
            "miniature_pinscher\n",
            "italian_greyhound\n",
            "saluki\n",
            "redbone\n",
            "chow\n",
            "english_foxhound\n",
            "saluki\n",
            "chow\n",
            "irish_water_spaniel\n",
            "irish_wolfhound\n",
            "irish_wolfhound\n",
            "irish_water_spaniel\n",
            "malinois\n",
            "kerry_blue_terrier\n",
            "affenpinscher\n",
            "toy_poodle\n",
            "cocker_spaniel\n",
            "bloodhound\n",
            "chow\n",
            "clumber\n",
            "cocker_spaniel\n",
            "malinois\n",
            "lhasa\n",
            "gordon_setter\n",
            "saluki\n",
            "irish_wolfhound\n",
            "border_collie\n",
            "redbone\n",
            "norwegian_elkhound\n",
            "yorkshire_terrier\n",
            "great_pyrenees\n",
            "shih-tzu\n",
            "irish_wolfhound\n",
            "affenpinscher\n",
            "border_collie\n",
            "sealyham_terrier\n",
            "japanese_spaniel\n",
            "italian_greyhound\n",
            "saluki\n",
            "bedlington_terrier\n",
            "bloodhound\n",
            "english_setter\n",
            "cocker_spaniel\n",
            "redbone\n",
            "walker_hound\n",
            "redbone\n",
            "affenpinscher\n",
            "greater_swiss_mountain_dog\n",
            "redbone\n",
            "great_pyrenees\n",
            "greater_swiss_mountain_dog\n",
            "saluki\n",
            "black-and-tan_coonhound\n",
            "bloodhound\n",
            "entlebucher\n",
            "saint_bernard\n",
            "malinois\n",
            "walker_hound\n",
            "italian_greyhound\n",
            "irish_wolfhound\n",
            "leonberg\n",
            "miniature_pinscher\n",
            "irish_wolfhound\n",
            "bloodhound\n",
            "norwegian_elkhound\n",
            "clumber\n",
            "standard_poodle\n",
            "saluki\n",
            "malamute\n",
            "saluki\n",
            "clumber\n",
            "toy_poodle\n",
            "clumber\n",
            "bloodhound\n",
            "wire-haired_fox_terrier\n",
            "cocker_spaniel\n",
            "shih-tzu\n",
            "kuvasz\n",
            "redbone\n",
            "black-and-tan_coonhound\n",
            "wire-haired_fox_terrier\n",
            "appenzeller\n",
            "walker_hound\n",
            "pomeranian\n",
            "malinois\n",
            "walker_hound\n",
            "redbone\n",
            "walker_hound\n",
            "labrador_retriever\n",
            "bloodhound\n",
            "standard_poodle\n",
            "lakeland_terrier\n",
            "weimaraner\n",
            "walker_hound\n",
            "bloodhound\n",
            "greater_swiss_mountain_dog\n",
            "yorkshire_terrier\n",
            "saluki\n",
            "greater_swiss_mountain_dog\n",
            "basset\n",
            "wire-haired_fox_terrier\n",
            "bloodhound\n",
            "saluki\n",
            "greater_swiss_mountain_dog\n",
            "chow\n",
            "wire-haired_fox_terrier\n",
            "bluetick\n",
            "english_setter\n",
            "miniature_poodle\n",
            "walker_hound\n",
            "bernese_mountain_dog\n",
            "dhole\n",
            "saint_bernard\n",
            "chow\n",
            "beagle\n",
            "soft-coated_wheaten_terrier\n",
            "boston_bull\n",
            "english_springer\n",
            "clumber\n",
            "whippet\n",
            "irish_water_spaniel\n",
            "standard_schnauzer\n",
            "irish_wolfhound\n",
            "saluki\n",
            "samoyed\n",
            "saluki\n",
            "clumber\n",
            "saluki\n",
            "weimaraner\n",
            "affenpinscher\n",
            "greater_swiss_mountain_dog\n",
            "tibetan_mastiff\n",
            "norfolk_terrier\n",
            "wire-haired_fox_terrier\n",
            "miniature_pinscher\n",
            "greater_swiss_mountain_dog\n",
            "standard_schnauzer\n",
            "borzoi\n",
            "saluki\n",
            "maltese_dog\n",
            "standard_schnauzer\n",
            "english_foxhound\n",
            "bloodhound\n",
            "italian_greyhound\n",
            "cocker_spaniel\n",
            "walker_hound\n",
            "irish_wolfhound\n",
            "redbone\n",
            "gordon_setter\n",
            "saluki\n",
            "samoyed\n",
            "bedlington_terrier\n",
            "leonberg\n",
            "walker_hound\n",
            "malamute\n",
            "english_foxhound\n",
            "german_shepherd\n",
            "greater_swiss_mountain_dog\n",
            "gordon_setter\n",
            "american_staffordshire_terrier\n",
            "greater_swiss_mountain_dog\n",
            "affenpinscher\n",
            "irish_setter\n",
            "black-and-tan_coonhound\n",
            "affenpinscher\n",
            "miniature_pinscher\n",
            "komondor\n",
            "chow\n",
            "border_collie\n",
            "saluki\n",
            "saluki\n",
            "irish_water_spaniel\n",
            "rhodesian_ridgeback\n",
            "saint_bernard\n",
            "irish_wolfhound\n",
            "gordon_setter\n",
            "appenzeller\n",
            "greater_swiss_mountain_dog\n",
            "flat-coated_retriever\n",
            "irish_wolfhound\n",
            "leonberg\n",
            "ibizan_hound\n",
            "great_pyrenees\n",
            "affenpinscher\n",
            "saluki\n",
            "japanese_spaniel\n",
            "bloodhound\n",
            "walker_hound\n",
            "irish_wolfhound\n",
            "cocker_spaniel\n",
            "american_staffordshire_terrier\n",
            "lhasa\n",
            "affenpinscher\n",
            "norwich_terrier\n",
            "pomeranian\n",
            "bloodhound\n",
            "saluki\n",
            "irish_wolfhound\n",
            "chesapeake_bay_retriever\n",
            "greater_swiss_mountain_dog\n",
            "bloodhound\n",
            "affenpinscher\n",
            "black-and-tan_coonhound\n",
            "saint_bernard\n",
            "saluki\n",
            "greater_swiss_mountain_dog\n",
            "affenpinscher\n",
            "malamute\n",
            "beagle\n",
            "norfolk_terrier\n",
            "leonberg\n",
            "wire-haired_fox_terrier\n",
            "bernese_mountain_dog\n",
            "black-and-tan_coonhound\n",
            "pomeranian\n",
            "gordon_setter\n",
            "gordon_setter\n",
            "affenpinscher\n",
            "greater_swiss_mountain_dog\n",
            "bedlington_terrier\n",
            "affenpinscher\n",
            "clumber\n",
            "bloodhound\n",
            "saluki\n",
            "leonberg\n",
            "lhasa\n",
            "irish_setter\n",
            "affenpinscher\n",
            "border_collie\n",
            "irish_wolfhound\n",
            "black-and-tan_coonhound\n",
            "affenpinscher\n",
            "staffordshire_bullterrier\n",
            "leonberg\n",
            "malinois\n",
            "old_english_sheepdog\n",
            "greater_swiss_mountain_dog\n",
            "greater_swiss_mountain_dog\n",
            "norwegian_elkhound\n",
            "soft-coated_wheaten_terrier\n",
            "redbone\n",
            "malinois\n",
            "english_foxhound\n",
            "american_staffordshire_terrier\n",
            "irish_water_spaniel\n",
            "bernese_mountain_dog\n",
            "saluki\n",
            "greater_swiss_mountain_dog\n",
            "airedale\n",
            "walker_hound\n",
            "great_pyrenees\n",
            "bedlington_terrier\n",
            "cairn\n",
            "cocker_spaniel\n",
            "great_pyrenees\n",
            "shih-tzu\n",
            "gordon_setter\n",
            "norwich_terrier\n",
            "mexican_hairless\n",
            "walker_hound\n",
            "tibetan_mastiff\n",
            "clumber\n",
            "japanese_spaniel\n",
            "saluki\n",
            "borzoi\n",
            "walker_hound\n",
            "bedlington_terrier\n",
            "basset\n",
            "miniature_poodle\n",
            "affenpinscher\n",
            "wire-haired_fox_terrier\n",
            "wire-haired_fox_terrier\n",
            "maltese_dog\n",
            "malinois\n",
            "clumber\n",
            "bedlington_terrier\n",
            "borzoi\n",
            "english_foxhound\n",
            "sealyham_terrier\n",
            "american_staffordshire_terrier\n",
            "saint_bernard\n",
            "walker_hound\n",
            "affenpinscher\n",
            "redbone\n",
            "saluki\n",
            "redbone\n",
            "walker_hound\n",
            "black-and-tan_coonhound\n",
            "miniature_poodle\n",
            "walker_hound\n",
            "toy_poodle\n",
            "cairn\n",
            "great_dane\n",
            "german_shepherd\n",
            "affenpinscher\n",
            "walker_hound\n",
            "saluki\n",
            "irish_wolfhound\n",
            "redbone\n",
            "bloodhound\n",
            "redbone\n",
            "scottish_deerhound\n",
            "samoyed\n",
            "leonberg\n",
            "clumber\n",
            "miniature_pinscher\n",
            "welsh_springer_spaniel\n",
            "chow\n",
            "malinois\n",
            "cocker_spaniel\n",
            "greater_swiss_mountain_dog\n",
            "malamute\n",
            "german_shepherd\n",
            "saluki\n",
            "lakeland_terrier\n",
            "affenpinscher\n",
            "walker_hound\n",
            "gordon_setter\n",
            "malamute\n",
            "bedlington_terrier\n",
            "pomeranian\n",
            "miniature_poodle\n",
            "scottish_deerhound\n",
            "norwich_terrier\n",
            "sealyham_terrier\n",
            "german_shepherd\n",
            "black-and-tan_coonhound\n",
            "standard_schnauzer\n",
            "great_pyrenees\n",
            "bernese_mountain_dog\n",
            "walker_hound\n",
            "walker_hound\n",
            "norwich_terrier\n",
            "english_foxhound\n",
            "leonberg\n",
            "standard_poodle\n",
            "great_pyrenees\n",
            "saluki\n",
            "staffordshire_bullterrier\n",
            "saluki\n",
            "bedlington_terrier\n",
            "saluki\n",
            "english_foxhound\n",
            "saint_bernard\n",
            "italian_greyhound\n",
            "japanese_spaniel\n",
            "leonberg\n",
            "black-and-tan_coonhound\n",
            "leonberg\n",
            "japanese_spaniel\n",
            "lakeland_terrier\n",
            "greater_swiss_mountain_dog\n",
            "irish_water_spaniel\n",
            "lhasa\n",
            "redbone\n",
            "gordon_setter\n",
            "walker_hound\n",
            "beagle\n",
            "wire-haired_fox_terrier\n",
            "malinois\n",
            "wire-haired_fox_terrier\n",
            "mexican_hairless\n",
            "tibetan_mastiff\n",
            "affenpinscher\n",
            "irish_water_spaniel\n",
            "toy_poodle\n",
            "irish_wolfhound\n",
            "norfolk_terrier\n",
            "american_staffordshire_terrier\n",
            "leonberg\n",
            "gordon_setter\n",
            "lakeland_terrier\n",
            "irish_water_spaniel\n",
            "saluki\n",
            "toy_poodle\n",
            "english_foxhound\n",
            "redbone\n",
            "rhodesian_ridgeback\n",
            "english_foxhound\n",
            "black-and-tan_coonhound\n",
            "affenpinscher\n",
            "border_collie\n",
            "clumber\n",
            "malinois\n",
            "maltese_dog\n",
            "affenpinscher\n",
            "bloodhound\n",
            "affenpinscher\n",
            "great_dane\n",
            "norwegian_elkhound\n",
            "saluki\n",
            "irish_wolfhound\n",
            "border_collie\n",
            "leonberg\n",
            "leonberg\n",
            "beagle\n",
            "english_setter\n",
            "saluki\n",
            "staffordshire_bullterrier\n",
            "bedlington_terrier\n",
            "english_foxhound\n",
            "french_bulldog\n",
            "great_dane\n",
            "gordon_setter\n",
            "saluki\n",
            "rhodesian_ridgeback\n",
            "gordon_setter\n",
            "greater_swiss_mountain_dog\n",
            "appenzeller\n",
            "appenzeller\n",
            "saluki\n",
            "english_foxhound\n",
            "english_springer\n",
            "irish_wolfhound\n",
            "leonberg\n",
            "affenpinscher\n",
            "brittany_spaniel\n",
            "leonberg\n",
            "walker_hound\n",
            "redbone\n",
            "bluetick\n",
            "saluki\n",
            "bernese_mountain_dog\n",
            "chow\n",
            "pomeranian\n",
            "saluki\n",
            "bloodhound\n",
            "affenpinscher\n",
            "beagle\n",
            "dhole\n",
            "redbone\n",
            "pembroke\n",
            "affenpinscher\n",
            "greater_swiss_mountain_dog\n",
            "bedlington_terrier\n",
            "yorkshire_terrier\n",
            "rottweiler\n",
            "yorkshire_terrier\n",
            "saluki\n",
            "lakeland_terrier\n",
            "walker_hound\n",
            "tibetan_mastiff\n",
            "bluetick\n",
            "affenpinscher\n",
            "newfoundland\n",
            "labrador_retriever\n",
            "standard_schnauzer\n",
            "walker_hound\n",
            "english_setter\n",
            "american_staffordshire_terrier\n",
            "saluki\n",
            "collie\n",
            "wire-haired_fox_terrier\n",
            "scottish_deerhound\n",
            "ibizan_hound\n",
            "scottish_deerhound\n",
            "italian_greyhound\n",
            "borzoi\n",
            "walker_hound\n",
            "chow\n",
            "leonberg\n",
            "miniature_poodle\n",
            "black-and-tan_coonhound\n",
            "malinois\n",
            "ibizan_hound\n",
            "german_shepherd\n",
            "maltese_dog\n",
            "english_setter\n",
            "dhole\n",
            "walker_hound\n",
            "gordon_setter\n",
            "affenpinscher\n",
            "irish_wolfhound\n",
            "ibizan_hound\n",
            "borzoi\n",
            "great_pyrenees\n",
            "boston_bull\n",
            "saluki\n",
            "maltese_dog\n",
            "walker_hound\n",
            "gordon_setter\n",
            "standard_poodle\n",
            "tibetan_mastiff\n",
            "walker_hound\n",
            "leonberg\n",
            "flat-coated_retriever\n",
            "clumber\n",
            "bernese_mountain_dog\n",
            "soft-coated_wheaten_terrier\n",
            "yorkshire_terrier\n",
            "irish_water_spaniel\n",
            "affenpinscher\n",
            "greater_swiss_mountain_dog\n",
            "affenpinscher\n",
            "cocker_spaniel\n",
            "irish_wolfhound\n",
            "italian_greyhound\n",
            "labrador_retriever\n",
            "standard_poodle\n",
            "norwegian_elkhound\n",
            "dhole\n",
            "leonberg\n",
            "black-and-tan_coonhound\n",
            "ibizan_hound\n",
            "french_bulldog\n",
            "rhodesian_ridgeback\n",
            "irish_wolfhound\n",
            "miniature_pinscher\n",
            "rhodesian_ridgeback\n",
            "bernese_mountain_dog\n",
            "airedale\n",
            "standard_schnauzer\n",
            "tibetan_mastiff\n",
            "redbone\n",
            "leonberg\n",
            "gordon_setter\n",
            "english_springer\n",
            "basenji\n",
            "redbone\n",
            "irish_wolfhound\n",
            "miniature_poodle\n",
            "norfolk_terrier\n",
            "great_pyrenees\n",
            "walker_hound\n",
            "gordon_setter\n",
            "greater_swiss_mountain_dog\n",
            "malinois\n",
            "walker_hound\n",
            "clumber\n",
            "kuvasz\n",
            "malinois\n",
            "german_shepherd\n",
            "saluki\n",
            "malamute\n",
            "leonberg\n",
            "english_springer\n",
            "appenzeller\n",
            "bloodhound\n",
            "saluki\n",
            "miniature_pinscher\n",
            "walker_hound\n",
            "redbone\n",
            "bloodhound\n",
            "chow\n",
            "miniature_pinscher\n",
            "affenpinscher\n",
            "walker_hound\n",
            "saluki\n",
            "great_pyrenees\n",
            "norwich_terrier\n",
            "saluki\n",
            "maltese_dog\n",
            "standard_poodle\n",
            "boston_bull\n",
            "saint_bernard\n",
            "mexican_hairless\n",
            "gordon_setter\n",
            "walker_hound\n",
            "shih-tzu\n",
            "saluki\n",
            "walker_hound\n",
            "redbone\n",
            "appenzeller\n",
            "cocker_spaniel\n",
            "mexican_hairless\n",
            "cocker_spaniel\n",
            "saint_bernard\n",
            "dhole\n",
            "gordon_setter\n"
          ],
          "name": "stdout"
        }
      ]
    },
    {
      "cell_type": "markdown",
      "metadata": {
        "id": "ldoQ05MhHsAx",
        "colab_type": "text"
      },
      "source": [
        "# Notes \n",
        "\n",
        "Machine interrupted whilst training. The first epoch took approx 3000 secs = 50 mins\n",
        "\n",
        "=> The training would take 12.5 hours to train on standard machine. Having another go on a TPU enabled one (fingers crossed)\n",
        "\n",
        "Also, on first epoch the model achieved an accuracy of just slightly better than guessing the same label (i.e. St. Bernard) for all the images"
      ]
    }
  ]
}